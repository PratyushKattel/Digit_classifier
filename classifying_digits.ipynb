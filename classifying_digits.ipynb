{
 "cells": [
  {
   "cell_type": "code",
   "execution_count": 1,
   "metadata": {},
   "outputs": [],
   "source": [
    "import pandas as pd\n",
    "import numpy as np\n",
    "import tensorflow as tf\n",
    "from tensorflow import keras\n",
    "from tensorflow.keras import layers\n",
    "from tensorflow.keras.models import Sequential\n",
    "from tensorflow.keras.layers import Dense\n",
    "from tensorflow.keras.optimizers import Adam\n",
    "from sklearn.model_selection import train_test_split"
   ]
  },
  {
   "cell_type": "code",
   "execution_count": 2,
   "metadata": {},
   "outputs": [],
   "source": [
    "df=pd.read_csv('training_images/training_images.csv')"
   ]
  },
  {
   "cell_type": "code",
   "execution_count": 29,
   "metadata": {},
   "outputs": [],
   "source": [
    "df\n",
    "X = df.drop('label', axis=1)\n",
    "y = pd.get_dummies(df['label'])"
   ]
  },
  {
   "cell_type": "code",
   "execution_count": 30,
   "metadata": {},
   "outputs": [],
   "source": [
    "model=Sequential()\n",
    "model.add(Dense(64, input_dim=1024, activation='relu'))\n",
    "model.add(Dense(64, activation='relu'))\n",
    "model.add(Dense(36, activation='softmax'))\n"
   ]
  },
  {
   "cell_type": "code",
   "execution_count": 31,
   "metadata": {},
   "outputs": [],
   "source": [
    "model.compile(loss='categorical_crossentropy', optimizer='adam', metrics=['accuracy'])"
   ]
  },
  {
   "cell_type": "code",
   "execution_count": 32,
   "metadata": {},
   "outputs": [],
   "source": [
    "X_train, X_test, y_train, y_test = train_test_split(X, y, test_size=0.2, random_state=42)"
   ]
  },
  {
   "cell_type": "code",
   "execution_count": 34,
   "metadata": {},
   "outputs": [
    {
     "name": "stdout",
     "output_type": "stream",
     "text": [
      "Epoch 1/20\n",
      "1800/1800 [==============================] - 4s 2ms/step - loss: 0.2394 - accuracy: 0.9260 - val_loss: 0.4338 - val_accuracy: 0.8835\n",
      "Epoch 2/20\n",
      "1800/1800 [==============================] - 3s 2ms/step - loss: 0.2235 - accuracy: 0.9302 - val_loss: 0.4323 - val_accuracy: 0.8847\n",
      "Epoch 3/20\n",
      "1800/1800 [==============================] - 3s 2ms/step - loss: 0.2132 - accuracy: 0.9336 - val_loss: 0.4261 - val_accuracy: 0.8874\n",
      "Epoch 4/20\n",
      "1800/1800 [==============================] - 4s 2ms/step - loss: 0.2018 - accuracy: 0.9364 - val_loss: 0.4609 - val_accuracy: 0.8785\n",
      "Epoch 5/20\n",
      "1800/1800 [==============================] - 4s 2ms/step - loss: 0.1887 - accuracy: 0.9411 - val_loss: 0.4284 - val_accuracy: 0.8870\n",
      "Epoch 6/20\n",
      "1800/1800 [==============================] - 4s 2ms/step - loss: 0.1802 - accuracy: 0.9427 - val_loss: 0.4559 - val_accuracy: 0.8824\n",
      "Epoch 7/20\n",
      "1800/1800 [==============================] - 4s 2ms/step - loss: 0.1732 - accuracy: 0.9452 - val_loss: 0.4727 - val_accuracy: 0.8849\n",
      "Epoch 8/20\n",
      "1800/1800 [==============================] - 4s 2ms/step - loss: 0.1666 - accuracy: 0.9464 - val_loss: 0.4548 - val_accuracy: 0.8872\n",
      "Epoch 9/20\n",
      "1800/1800 [==============================] - 5s 3ms/step - loss: 0.1572 - accuracy: 0.9495 - val_loss: 0.4514 - val_accuracy: 0.8896\n",
      "Epoch 10/20\n",
      "1800/1800 [==============================] - 4s 2ms/step - loss: 0.1545 - accuracy: 0.9505 - val_loss: 0.4760 - val_accuracy: 0.8897\n",
      "Epoch 11/20\n",
      "1800/1800 [==============================] - 4s 2ms/step - loss: 0.1457 - accuracy: 0.9526 - val_loss: 0.5004 - val_accuracy: 0.8825\n",
      "Epoch 12/20\n",
      "1800/1800 [==============================] - 4s 2ms/step - loss: 0.1439 - accuracy: 0.9529 - val_loss: 0.4957 - val_accuracy: 0.8881\n",
      "Epoch 13/20\n",
      "1800/1800 [==============================] - 5s 3ms/step - loss: 0.1335 - accuracy: 0.9557 - val_loss: 0.4924 - val_accuracy: 0.8894\n",
      "Epoch 14/20\n",
      "1800/1800 [==============================] - 4s 2ms/step - loss: 0.1289 - accuracy: 0.9570 - val_loss: 0.5214 - val_accuracy: 0.8867\n",
      "Epoch 15/20\n",
      "1800/1800 [==============================] - 4s 2ms/step - loss: 0.1278 - accuracy: 0.9575 - val_loss: 0.5626 - val_accuracy: 0.8798\n",
      "Epoch 16/20\n",
      "1800/1800 [==============================] - 4s 2ms/step - loss: 0.1264 - accuracy: 0.9574 - val_loss: 0.5340 - val_accuracy: 0.8840\n",
      "Epoch 17/20\n",
      "1800/1800 [==============================] - 5s 3ms/step - loss: 0.1194 - accuracy: 0.9606 - val_loss: 0.5319 - val_accuracy: 0.8869\n",
      "Epoch 18/20\n",
      "1800/1800 [==============================] - 4s 2ms/step - loss: 0.1169 - accuracy: 0.9610 - val_loss: 0.5455 - val_accuracy: 0.8865\n",
      "Epoch 19/20\n",
      "1800/1800 [==============================] - 4s 2ms/step - loss: 0.1142 - accuracy: 0.9622 - val_loss: 0.5524 - val_accuracy: 0.8892\n",
      "Epoch 20/20\n",
      "1800/1800 [==============================] - 5s 3ms/step - loss: 0.1096 - accuracy: 0.9635 - val_loss: 0.5496 - val_accuracy: 0.8876\n"
     ]
    },
    {
     "data": {
      "text/plain": [
       "<keras.callbacks.History at 0x209cab056c0>"
      ]
     },
     "execution_count": 34,
     "metadata": {},
     "output_type": "execute_result"
    }
   ],
   "source": [
    "model.fit(X_train, y_train,validation_data=(X_test,y_test), epochs=20)"
   ]
  },
  {
   "cell_type": "code",
   "execution_count": 35,
   "metadata": {},
   "outputs": [
    {
     "name": "stdout",
     "output_type": "stream",
     "text": [
      "INFO:tensorflow:Assets written to: ram://85c51ba4-72a5-4c86-a45e-a94ee1110785/assets\n"
     ]
    }
   ],
   "source": [
    "import pickle\n",
    "\n",
    "# Serialize the model to a pkl file\n",
    "with open('model.pkl', 'wb') as f:\n",
    "    pickle.dump(model, f)"
   ]
  },
  {
   "cell_type": "code",
   "execution_count": null,
   "metadata": {},
   "outputs": [],
   "source": []
  }
 ],
 "metadata": {
  "kernelspec": {
   "display_name": "classifier",
   "language": "python",
   "name": "python3"
  },
  "language_info": {
   "codemirror_mode": {
    "name": "ipython",
    "version": 3
   },
   "file_extension": ".py",
   "mimetype": "text/x-python",
   "name": "python",
   "nbconvert_exporter": "python",
   "pygments_lexer": "ipython3",
   "version": "3.10.13"
  }
 },
 "nbformat": 4,
 "nbformat_minor": 2
}
