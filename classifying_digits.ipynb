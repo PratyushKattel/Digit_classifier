{
 "cells": [
  {
   "cell_type": "code",
   "execution_count": 115,
   "metadata": {},
   "outputs": [],
   "source": [
    "import pandas as pd\n",
    "import numpy as np\n",
    "import tensorflow as tf\n",
    "from tensorflow import keras\n",
    "from tensorflow.keras import layers\n",
    "from tensorflow.keras.models import Sequential\n",
    "from tensorflow.keras.layers import Dense\n",
    "\n",
    "from sklearn.model_selection import train_test_split"
   ]
  },
  {
   "cell_type": "code",
   "execution_count": 116,
   "metadata": {},
   "outputs": [],
   "source": [
    "df_char=pd.read_csv('training_images/training_images.csv')\n",
    "df_digits=pd.read_csv('training_images/training_images_digit.csv')"
   ]
  },
  {
   "cell_type": "code",
   "execution_count": 117,
   "metadata": {},
   "outputs": [],
   "source": [
    "df_final=pd.concat([df_char,df_digits],axis=0)"
   ]
  },
  {
   "cell_type": "code",
   "execution_count": 118,
   "metadata": {},
   "outputs": [
    {
     "data": {
      "text/html": [
       "<div>\n",
       "<style scoped>\n",
       "    .dataframe tbody tr th:only-of-type {\n",
       "        vertical-align: middle;\n",
       "    }\n",
       "\n",
       "    .dataframe tbody tr th {\n",
       "        vertical-align: top;\n",
       "    }\n",
       "\n",
       "    .dataframe thead th {\n",
       "        text-align: right;\n",
       "    }\n",
       "</style>\n",
       "<table border=\"1\" class=\"dataframe\">\n",
       "  <thead>\n",
       "    <tr style=\"text-align: right;\">\n",
       "      <th></th>\n",
       "      <th>0</th>\n",
       "      <th>1</th>\n",
       "      <th>2</th>\n",
       "      <th>3</th>\n",
       "      <th>4</th>\n",
       "      <th>5</th>\n",
       "      <th>6</th>\n",
       "      <th>7</th>\n",
       "      <th>8</th>\n",
       "      <th>9</th>\n",
       "      <th>...</th>\n",
       "      <th>1015</th>\n",
       "      <th>1016</th>\n",
       "      <th>1017</th>\n",
       "      <th>1018</th>\n",
       "      <th>1019</th>\n",
       "      <th>1020</th>\n",
       "      <th>1021</th>\n",
       "      <th>1022</th>\n",
       "      <th>1023</th>\n",
       "      <th>label</th>\n",
       "    </tr>\n",
       "  </thead>\n",
       "  <tbody>\n",
       "    <tr>\n",
       "      <th>0</th>\n",
       "      <td>0.0</td>\n",
       "      <td>0.0</td>\n",
       "      <td>0.0</td>\n",
       "      <td>0.0</td>\n",
       "      <td>0.0</td>\n",
       "      <td>0.0</td>\n",
       "      <td>0.0</td>\n",
       "      <td>0.0</td>\n",
       "      <td>0.0</td>\n",
       "      <td>0.0</td>\n",
       "      <td>...</td>\n",
       "      <td>0.0</td>\n",
       "      <td>0.0</td>\n",
       "      <td>0.0</td>\n",
       "      <td>0.0</td>\n",
       "      <td>0.0</td>\n",
       "      <td>0.0</td>\n",
       "      <td>0.0</td>\n",
       "      <td>0.0</td>\n",
       "      <td>0.0</td>\n",
       "      <td>character_01_ka</td>\n",
       "    </tr>\n",
       "    <tr>\n",
       "      <th>1</th>\n",
       "      <td>0.0</td>\n",
       "      <td>0.0</td>\n",
       "      <td>0.0</td>\n",
       "      <td>0.0</td>\n",
       "      <td>0.0</td>\n",
       "      <td>0.0</td>\n",
       "      <td>0.0</td>\n",
       "      <td>0.0</td>\n",
       "      <td>0.0</td>\n",
       "      <td>0.0</td>\n",
       "      <td>...</td>\n",
       "      <td>0.0</td>\n",
       "      <td>0.0</td>\n",
       "      <td>0.0</td>\n",
       "      <td>0.0</td>\n",
       "      <td>0.0</td>\n",
       "      <td>0.0</td>\n",
       "      <td>0.0</td>\n",
       "      <td>0.0</td>\n",
       "      <td>0.0</td>\n",
       "      <td>character_01_ka</td>\n",
       "    </tr>\n",
       "    <tr>\n",
       "      <th>2</th>\n",
       "      <td>0.0</td>\n",
       "      <td>0.0</td>\n",
       "      <td>0.0</td>\n",
       "      <td>0.0</td>\n",
       "      <td>0.0</td>\n",
       "      <td>0.0</td>\n",
       "      <td>0.0</td>\n",
       "      <td>0.0</td>\n",
       "      <td>0.0</td>\n",
       "      <td>0.0</td>\n",
       "      <td>...</td>\n",
       "      <td>0.0</td>\n",
       "      <td>0.0</td>\n",
       "      <td>0.0</td>\n",
       "      <td>0.0</td>\n",
       "      <td>0.0</td>\n",
       "      <td>0.0</td>\n",
       "      <td>0.0</td>\n",
       "      <td>0.0</td>\n",
       "      <td>0.0</td>\n",
       "      <td>character_01_ka</td>\n",
       "    </tr>\n",
       "    <tr>\n",
       "      <th>3</th>\n",
       "      <td>0.0</td>\n",
       "      <td>0.0</td>\n",
       "      <td>0.0</td>\n",
       "      <td>0.0</td>\n",
       "      <td>0.0</td>\n",
       "      <td>0.0</td>\n",
       "      <td>0.0</td>\n",
       "      <td>0.0</td>\n",
       "      <td>0.0</td>\n",
       "      <td>0.0</td>\n",
       "      <td>...</td>\n",
       "      <td>0.0</td>\n",
       "      <td>0.0</td>\n",
       "      <td>0.0</td>\n",
       "      <td>0.0</td>\n",
       "      <td>0.0</td>\n",
       "      <td>0.0</td>\n",
       "      <td>0.0</td>\n",
       "      <td>0.0</td>\n",
       "      <td>0.0</td>\n",
       "      <td>character_01_ka</td>\n",
       "    </tr>\n",
       "    <tr>\n",
       "      <th>4</th>\n",
       "      <td>0.0</td>\n",
       "      <td>0.0</td>\n",
       "      <td>0.0</td>\n",
       "      <td>0.0</td>\n",
       "      <td>0.0</td>\n",
       "      <td>0.0</td>\n",
       "      <td>0.0</td>\n",
       "      <td>0.0</td>\n",
       "      <td>0.0</td>\n",
       "      <td>0.0</td>\n",
       "      <td>...</td>\n",
       "      <td>0.0</td>\n",
       "      <td>0.0</td>\n",
       "      <td>0.0</td>\n",
       "      <td>0.0</td>\n",
       "      <td>0.0</td>\n",
       "      <td>0.0</td>\n",
       "      <td>0.0</td>\n",
       "      <td>0.0</td>\n",
       "      <td>0.0</td>\n",
       "      <td>character_01_ka</td>\n",
       "    </tr>\n",
       "    <tr>\n",
       "      <th>...</th>\n",
       "      <td>...</td>\n",
       "      <td>...</td>\n",
       "      <td>...</td>\n",
       "      <td>...</td>\n",
       "      <td>...</td>\n",
       "      <td>...</td>\n",
       "      <td>...</td>\n",
       "      <td>...</td>\n",
       "      <td>...</td>\n",
       "      <td>...</td>\n",
       "      <td>...</td>\n",
       "      <td>...</td>\n",
       "      <td>...</td>\n",
       "      <td>...</td>\n",
       "      <td>...</td>\n",
       "      <td>...</td>\n",
       "      <td>...</td>\n",
       "      <td>...</td>\n",
       "      <td>...</td>\n",
       "      <td>...</td>\n",
       "      <td>...</td>\n",
       "    </tr>\n",
       "    <tr>\n",
       "      <th>19995</th>\n",
       "      <td>0.0</td>\n",
       "      <td>0.0</td>\n",
       "      <td>0.0</td>\n",
       "      <td>0.0</td>\n",
       "      <td>0.0</td>\n",
       "      <td>0.0</td>\n",
       "      <td>0.0</td>\n",
       "      <td>0.0</td>\n",
       "      <td>0.0</td>\n",
       "      <td>0.0</td>\n",
       "      <td>...</td>\n",
       "      <td>0.0</td>\n",
       "      <td>0.0</td>\n",
       "      <td>0.0</td>\n",
       "      <td>0.0</td>\n",
       "      <td>0.0</td>\n",
       "      <td>0.0</td>\n",
       "      <td>0.0</td>\n",
       "      <td>0.0</td>\n",
       "      <td>0.0</td>\n",
       "      <td>digit_9</td>\n",
       "    </tr>\n",
       "    <tr>\n",
       "      <th>19996</th>\n",
       "      <td>0.0</td>\n",
       "      <td>0.0</td>\n",
       "      <td>0.0</td>\n",
       "      <td>0.0</td>\n",
       "      <td>0.0</td>\n",
       "      <td>0.0</td>\n",
       "      <td>0.0</td>\n",
       "      <td>0.0</td>\n",
       "      <td>0.0</td>\n",
       "      <td>0.0</td>\n",
       "      <td>...</td>\n",
       "      <td>0.0</td>\n",
       "      <td>0.0</td>\n",
       "      <td>0.0</td>\n",
       "      <td>0.0</td>\n",
       "      <td>0.0</td>\n",
       "      <td>0.0</td>\n",
       "      <td>0.0</td>\n",
       "      <td>0.0</td>\n",
       "      <td>0.0</td>\n",
       "      <td>digit_9</td>\n",
       "    </tr>\n",
       "    <tr>\n",
       "      <th>19997</th>\n",
       "      <td>0.0</td>\n",
       "      <td>0.0</td>\n",
       "      <td>0.0</td>\n",
       "      <td>0.0</td>\n",
       "      <td>0.0</td>\n",
       "      <td>0.0</td>\n",
       "      <td>0.0</td>\n",
       "      <td>0.0</td>\n",
       "      <td>0.0</td>\n",
       "      <td>0.0</td>\n",
       "      <td>...</td>\n",
       "      <td>0.0</td>\n",
       "      <td>0.0</td>\n",
       "      <td>0.0</td>\n",
       "      <td>0.0</td>\n",
       "      <td>0.0</td>\n",
       "      <td>0.0</td>\n",
       "      <td>0.0</td>\n",
       "      <td>0.0</td>\n",
       "      <td>0.0</td>\n",
       "      <td>digit_9</td>\n",
       "    </tr>\n",
       "    <tr>\n",
       "      <th>19998</th>\n",
       "      <td>0.0</td>\n",
       "      <td>0.0</td>\n",
       "      <td>0.0</td>\n",
       "      <td>0.0</td>\n",
       "      <td>0.0</td>\n",
       "      <td>0.0</td>\n",
       "      <td>0.0</td>\n",
       "      <td>0.0</td>\n",
       "      <td>0.0</td>\n",
       "      <td>0.0</td>\n",
       "      <td>...</td>\n",
       "      <td>0.0</td>\n",
       "      <td>0.0</td>\n",
       "      <td>0.0</td>\n",
       "      <td>0.0</td>\n",
       "      <td>0.0</td>\n",
       "      <td>0.0</td>\n",
       "      <td>0.0</td>\n",
       "      <td>0.0</td>\n",
       "      <td>0.0</td>\n",
       "      <td>digit_9</td>\n",
       "    </tr>\n",
       "    <tr>\n",
       "      <th>19999</th>\n",
       "      <td>0.0</td>\n",
       "      <td>0.0</td>\n",
       "      <td>0.0</td>\n",
       "      <td>0.0</td>\n",
       "      <td>0.0</td>\n",
       "      <td>0.0</td>\n",
       "      <td>0.0</td>\n",
       "      <td>0.0</td>\n",
       "      <td>0.0</td>\n",
       "      <td>0.0</td>\n",
       "      <td>...</td>\n",
       "      <td>0.0</td>\n",
       "      <td>0.0</td>\n",
       "      <td>0.0</td>\n",
       "      <td>0.0</td>\n",
       "      <td>0.0</td>\n",
       "      <td>0.0</td>\n",
       "      <td>0.0</td>\n",
       "      <td>0.0</td>\n",
       "      <td>0.0</td>\n",
       "      <td>digit_9</td>\n",
       "    </tr>\n",
       "  </tbody>\n",
       "</table>\n",
       "<p>92000 rows × 1025 columns</p>\n",
       "</div>"
      ],
      "text/plain": [
       "         0    1    2    3    4    5    6    7    8    9  ...  1015  1016  \\\n",
       "0      0.0  0.0  0.0  0.0  0.0  0.0  0.0  0.0  0.0  0.0  ...   0.0   0.0   \n",
       "1      0.0  0.0  0.0  0.0  0.0  0.0  0.0  0.0  0.0  0.0  ...   0.0   0.0   \n",
       "2      0.0  0.0  0.0  0.0  0.0  0.0  0.0  0.0  0.0  0.0  ...   0.0   0.0   \n",
       "3      0.0  0.0  0.0  0.0  0.0  0.0  0.0  0.0  0.0  0.0  ...   0.0   0.0   \n",
       "4      0.0  0.0  0.0  0.0  0.0  0.0  0.0  0.0  0.0  0.0  ...   0.0   0.0   \n",
       "...    ...  ...  ...  ...  ...  ...  ...  ...  ...  ...  ...   ...   ...   \n",
       "19995  0.0  0.0  0.0  0.0  0.0  0.0  0.0  0.0  0.0  0.0  ...   0.0   0.0   \n",
       "19996  0.0  0.0  0.0  0.0  0.0  0.0  0.0  0.0  0.0  0.0  ...   0.0   0.0   \n",
       "19997  0.0  0.0  0.0  0.0  0.0  0.0  0.0  0.0  0.0  0.0  ...   0.0   0.0   \n",
       "19998  0.0  0.0  0.0  0.0  0.0  0.0  0.0  0.0  0.0  0.0  ...   0.0   0.0   \n",
       "19999  0.0  0.0  0.0  0.0  0.0  0.0  0.0  0.0  0.0  0.0  ...   0.0   0.0   \n",
       "\n",
       "       1017  1018  1019  1020  1021  1022  1023            label  \n",
       "0       0.0   0.0   0.0   0.0   0.0   0.0   0.0  character_01_ka  \n",
       "1       0.0   0.0   0.0   0.0   0.0   0.0   0.0  character_01_ka  \n",
       "2       0.0   0.0   0.0   0.0   0.0   0.0   0.0  character_01_ka  \n",
       "3       0.0   0.0   0.0   0.0   0.0   0.0   0.0  character_01_ka  \n",
       "4       0.0   0.0   0.0   0.0   0.0   0.0   0.0  character_01_ka  \n",
       "...     ...   ...   ...   ...   ...   ...   ...              ...  \n",
       "19995   0.0   0.0   0.0   0.0   0.0   0.0   0.0          digit_9  \n",
       "19996   0.0   0.0   0.0   0.0   0.0   0.0   0.0          digit_9  \n",
       "19997   0.0   0.0   0.0   0.0   0.0   0.0   0.0          digit_9  \n",
       "19998   0.0   0.0   0.0   0.0   0.0   0.0   0.0          digit_9  \n",
       "19999   0.0   0.0   0.0   0.0   0.0   0.0   0.0          digit_9  \n",
       "\n",
       "[92000 rows x 1025 columns]"
      ]
     },
     "execution_count": 118,
     "metadata": {},
     "output_type": "execute_result"
    }
   ],
   "source": [
    "df_final"
   ]
  },
  {
   "cell_type": "code",
   "execution_count": 119,
   "metadata": {},
   "outputs": [],
   "source": [
    "from sklearn.preprocessing import LabelEncoder\n",
    "le=LabelEncoder()\n",
    "df_final['label']=le.fit_transform(df_final['label'])\n"
   ]
  },
  {
   "cell_type": "code",
   "execution_count": 120,
   "metadata": {},
   "outputs": [
    {
     "data": {
      "text/plain": [
       "label\n",
       "0     2000\n",
       "34    2000\n",
       "25    2000\n",
       "26    2000\n",
       "27    2000\n",
       "28    2000\n",
       "29    2000\n",
       "30    2000\n",
       "31    2000\n",
       "32    2000\n",
       "33    2000\n",
       "35    2000\n",
       "1     2000\n",
       "36    2000\n",
       "37    2000\n",
       "38    2000\n",
       "39    2000\n",
       "40    2000\n",
       "41    2000\n",
       "42    2000\n",
       "43    2000\n",
       "44    2000\n",
       "24    2000\n",
       "23    2000\n",
       "22    2000\n",
       "21    2000\n",
       "2     2000\n",
       "3     2000\n",
       "4     2000\n",
       "5     2000\n",
       "6     2000\n",
       "7     2000\n",
       "8     2000\n",
       "9     2000\n",
       "10    2000\n",
       "11    2000\n",
       "12    2000\n",
       "13    2000\n",
       "14    2000\n",
       "15    2000\n",
       "16    2000\n",
       "17    2000\n",
       "18    2000\n",
       "19    2000\n",
       "20    2000\n",
       "45    2000\n",
       "Name: count, dtype: int64"
      ]
     },
     "execution_count": 120,
     "metadata": {},
     "output_type": "execute_result"
    }
   ],
   "source": [
    "df_final['label'].value_counts()"
   ]
  },
  {
   "cell_type": "code",
   "execution_count": 121,
   "metadata": {},
   "outputs": [],
   "source": [
    "X=df_final.drop('label',axis=1)\n",
    "y=df_final['label']\n"
   ]
  },
  {
   "cell_type": "code",
   "execution_count": 122,
   "metadata": {},
   "outputs": [],
   "source": [
    "model=Sequential()\n",
    "model.add(Dense(512, input_dim=1024, activation='relu'))\n",
    "model.add(Dense(256, activation='relu'))\n",
    "model.add(Dense(128, activation='relu'))\n",
    "model.add(Dense(128, activation='relu'))\n",
    "model.add(Dense(64, activation='relu'))\n",
    "model.add(Dense(46, activation='softmax'))\n"
   ]
  },
  {
   "cell_type": "code",
   "execution_count": 123,
   "metadata": {},
   "outputs": [],
   "source": [
    "from tensorflow.keras.callbacks import EarlyStopping\n",
    "callback=EarlyStopping(monitor='val_loss',\n",
    "                       patience=20,\n",
    "                       restore_best_weights=False,\n",
    "                       verbose=1,\n",
    "                       mode='auto',\n",
    "                    min_delta=0.0001)\n"
   ]
  },
  {
   "cell_type": "code",
   "execution_count": 124,
   "metadata": {},
   "outputs": [],
   "source": [
    "model.compile(loss='sparse_categorical_crossentropy', optimizer='adam', metrics=['accuracy'])"
   ]
  },
  {
   "cell_type": "code",
   "execution_count": 125,
   "metadata": {},
   "outputs": [],
   "source": [
    "X_train, X_test, y_train, y_test = train_test_split(X, y, test_size=0.2, random_state=42)"
   ]
  },
  {
   "cell_type": "code",
   "execution_count": 126,
   "metadata": {},
   "outputs": [
    {
     "name": "stdout",
     "output_type": "stream",
     "text": [
      "Epoch 1/20\n",
      "460/460 [==============================] - 9s 12ms/step - loss: 1.2753 - accuracy: 0.6510 - val_loss: 0.6180 - val_accuracy: 0.8195\n",
      "Epoch 2/20\n",
      "460/460 [==============================] - 6s 13ms/step - loss: 0.4502 - accuracy: 0.8673 - val_loss: 0.4250 - val_accuracy: 0.8735\n",
      "Epoch 3/20\n",
      "460/460 [==============================] - 8s 17ms/step - loss: 0.2804 - accuracy: 0.9141 - val_loss: 0.3546 - val_accuracy: 0.8969\n",
      "Epoch 4/20\n",
      "460/460 [==============================] - 4s 9ms/step - loss: 0.2013 - accuracy: 0.9371 - val_loss: 0.3155 - val_accuracy: 0.9094\n",
      "Epoch 5/20\n",
      "460/460 [==============================] - 4s 8ms/step - loss: 0.1540 - accuracy: 0.9514 - val_loss: 0.3083 - val_accuracy: 0.9103\n",
      "Epoch 6/20\n",
      "460/460 [==============================] - 4s 9ms/step - loss: 0.1274 - accuracy: 0.9584 - val_loss: 0.3361 - val_accuracy: 0.9088\n",
      "Epoch 7/20\n",
      "460/460 [==============================] - 5s 10ms/step - loss: 0.1016 - accuracy: 0.9672 - val_loss: 0.3092 - val_accuracy: 0.9198\n",
      "Epoch 8/20\n",
      "460/460 [==============================] - 3s 7ms/step - loss: 0.0881 - accuracy: 0.9719 - val_loss: 0.3272 - val_accuracy: 0.9149\n",
      "Epoch 9/20\n",
      "460/460 [==============================] - 3s 8ms/step - loss: 0.0856 - accuracy: 0.9721 - val_loss: 0.3029 - val_accuracy: 0.9206\n",
      "Epoch 10/20\n",
      "460/460 [==============================] - 3s 7ms/step - loss: 0.0735 - accuracy: 0.9763 - val_loss: 0.3090 - val_accuracy: 0.9252\n",
      "Epoch 11/20\n",
      "460/460 [==============================] - 3s 8ms/step - loss: 0.0683 - accuracy: 0.9774 - val_loss: 0.3395 - val_accuracy: 0.9208\n",
      "Epoch 12/20\n",
      "460/460 [==============================] - 3s 8ms/step - loss: 0.0683 - accuracy: 0.9772 - val_loss: 0.3334 - val_accuracy: 0.9195\n",
      "Epoch 13/20\n",
      "460/460 [==============================] - 3s 8ms/step - loss: 0.0569 - accuracy: 0.9816 - val_loss: 0.3470 - val_accuracy: 0.9226\n",
      "Epoch 14/20\n",
      "460/460 [==============================] - 3s 8ms/step - loss: 0.0575 - accuracy: 0.9818 - val_loss: 0.3654 - val_accuracy: 0.9196\n",
      "Epoch 15/20\n",
      "460/460 [==============================] - 3s 8ms/step - loss: 0.0539 - accuracy: 0.9832 - val_loss: 0.3266 - val_accuracy: 0.9266\n",
      "Epoch 16/20\n",
      "460/460 [==============================] - 4s 8ms/step - loss: 0.0543 - accuracy: 0.9827 - val_loss: 0.3466 - val_accuracy: 0.9259\n",
      "Epoch 17/20\n",
      "460/460 [==============================] - 4s 9ms/step - loss: 0.0493 - accuracy: 0.9839 - val_loss: 0.3455 - val_accuracy: 0.9298\n",
      "Epoch 18/20\n",
      "460/460 [==============================] - 4s 8ms/step - loss: 0.0482 - accuracy: 0.9847 - val_loss: 0.3552 - val_accuracy: 0.9224\n",
      "Epoch 19/20\n",
      "460/460 [==============================] - 4s 8ms/step - loss: 0.0465 - accuracy: 0.9855 - val_loss: 0.3479 - val_accuracy: 0.9304\n",
      "Epoch 20/20\n",
      "460/460 [==============================] - 4s 8ms/step - loss: 0.0442 - accuracy: 0.9860 - val_loss: 0.3192 - val_accuracy: 0.9349\n"
     ]
    },
    {
     "data": {
      "text/plain": [
       "<keras.callbacks.History at 0x2823fc87b50>"
      ]
     },
     "execution_count": 126,
     "metadata": {},
     "output_type": "execute_result"
    }
   ],
   "source": [
    "model.fit(X_train, y_train, epochs=20,batch_size=128,callbacks=callback,validation_split=0.2)"
   ]
  },
  {
   "cell_type": "code",
   "execution_count": 127,
   "metadata": {},
   "outputs": [
    {
     "name": "stdout",
     "output_type": "stream",
     "text": [
      "INFO:tensorflow:Assets written to: ram://2d72a2d0-4ac3-4e07-a955-1c02f7061a8e/assets\n"
     ]
    }
   ],
   "source": [
    "import pickle\n",
    "\n",
    "# Serialize the model to a pkl file\n",
    "with open('model.pkl', 'wb') as f:\n",
    "    pickle.dump(model, f)"
   ]
  },
  {
   "cell_type": "code",
   "execution_count": 128,
   "metadata": {},
   "outputs": [
    {
     "name": "stdout",
     "output_type": "stream",
     "text": [
      "575/575 [==============================] - 2s 2ms/step\n"
     ]
    },
    {
     "data": {
      "text/plain": [
       "array([[2.0122675e-27, 6.5316249e-22, 1.0886639e-19, ..., 4.1601601e-20,\n",
       "        2.7615960e-21, 7.0603840e-20],\n",
       "       [1.6461517e-08, 1.7104181e-08, 5.4740218e-10, ..., 3.3787095e-11,\n",
       "        1.8835230e-17, 1.8304489e-08],\n",
       "       [1.7693208e-03, 3.8103310e-05, 1.4896366e-08, ..., 1.7764842e-07,\n",
       "        4.4503388e-08, 1.4178356e-05],\n",
       "       ...,\n",
       "       [2.4016439e-27, 5.5921537e-27, 1.1013945e-29, ..., 1.0578599e-22,\n",
       "        2.5078908e-28, 1.1166849e-27],\n",
       "       [3.3134655e-09, 1.2591106e-14, 3.0138329e-13, ..., 3.7640556e-13,\n",
       "        5.1819697e-14, 8.0510672e-16],\n",
       "       [1.5832342e-08, 2.5615664e-05, 1.1983075e-13, ..., 6.0108494e-20,\n",
       "        5.2183764e-19, 3.5021177e-18]], dtype=float32)"
      ]
     },
     "execution_count": 128,
     "metadata": {},
     "output_type": "execute_result"
    }
   ],
   "source": [
    "model.predict(X_test)"
   ]
  },
  {
   "cell_type": "code",
   "execution_count": 129,
   "metadata": {},
   "outputs": [],
   "source": [
    "from PIL import Image\n",
    "img=Image.open('ka_1.png').convert('L')"
   ]
  },
  {
   "cell_type": "code",
   "execution_count": 130,
   "metadata": {},
   "outputs": [],
   "source": [
    "img_array=np.array(img).flatten()/255"
   ]
  },
  {
   "cell_type": "code",
   "execution_count": 131,
   "metadata": {},
   "outputs": [
    {
     "name": "stdout",
     "output_type": "stream",
     "text": [
      "1/1 [==============================] - 0s 153ms/step\n"
     ]
    }
   ],
   "source": [
    "x=model.predict(img_array.reshape(1,1024))\n",
    "x=x.ravel()"
   ]
  },
  {
   "cell_type": "code",
   "execution_count": 132,
   "metadata": {},
   "outputs": [],
   "source": [
    "nepali_dict={\n",
    "    0: 'क', 1: 'ख', 2: 'ग', 3: 'घ', 4: 'ङ', 5: 'च', 6: 'छ', 7: 'ज', 8: 'झ', 9: 'ञ',\n",
    "    10: 'ट', 11: 'ठ', 12: 'ड', 13: 'ढ', 14: 'ण', 15: 'त', 16: 'थ', 17: 'द', 18: 'ध', 19: 'न',\n",
    "    20: 'प', 21: 'फ', 22: 'ब', 23: 'भ', 24: 'म', 25: 'य', 26: 'र', 27: 'ल', 28: 'व', 29: 'श',\n",
    "    30: 'ष', 31: 'स', 32: 'ह', 33: 'क्ष', 34: 'त्र', 35: 'ज्ञ'\n",
    "}\n"
   ]
  },
  {
   "cell_type": "code",
   "execution_count": 133,
   "metadata": {},
   "outputs": [
    {
     "name": "stdout",
     "output_type": "stream",
     "text": [
      "the enterd string is : क\n"
     ]
    }
   ],
   "source": [
    "print(\"the enterd string is :\",nepali_dict[np.argmax(x)])"
   ]
  },
  {
   "cell_type": "code",
   "execution_count": null,
   "metadata": {},
   "outputs": [],
   "source": []
  }
 ],
 "metadata": {
  "kernelspec": {
   "display_name": "classifier",
   "language": "python",
   "name": "python3"
  },
  "language_info": {
   "codemirror_mode": {
    "name": "ipython",
    "version": 3
   },
   "file_extension": ".py",
   "mimetype": "text/x-python",
   "name": "python",
   "nbconvert_exporter": "python",
   "pygments_lexer": "ipython3",
   "version": "3.10.13"
  }
 },
 "nbformat": 4,
 "nbformat_minor": 2
}
