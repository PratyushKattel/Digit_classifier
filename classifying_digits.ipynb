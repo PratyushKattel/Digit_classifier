{
 "cells": [
  {
   "cell_type": "code",
   "execution_count": 1,
   "metadata": {},
   "outputs": [],
   "source": [
    "import pandas as pd\n",
    "import numpy as np\n",
    "import tensorflow as tf\n",
    "from tensorflow import keras\n",
    "from tensorflow.keras import layers\n",
    "from tensorflow.keras.models import Sequential\n",
    "from tensorflow.keras.layers import Dense\n",
    "from tensorflow.keras.optimizers import Adam\n",
    "from sklearn.model_selection import train_test_split"
   ]
  },
  {
   "cell_type": "code",
   "execution_count": 2,
   "metadata": {},
   "outputs": [],
   "source": [
    "df=pd.read_csv('training_images/training_images.csv')"
   ]
  },
  {
   "cell_type": "code",
   "execution_count": 29,
   "metadata": {},
   "outputs": [],
   "source": [
    "df\n",
    "X = df.drop('label', axis=1)\n",
    "y = pd.get_dummies(df['label'])"
   ]
  },
  {
   "cell_type": "code",
   "execution_count": 30,
   "metadata": {},
   "outputs": [],
   "source": [
    "model=Sequential()\n",
    "model.add(Dense(64, input_dim=1024, activation='relu'))\n",
    "model.add(Dense(64, activation='relu'))\n",
    "model.add(Dense(36, activation='softmax'))\n"
   ]
  },
  {
   "cell_type": "code",
   "execution_count": 31,
   "metadata": {},
   "outputs": [],
   "source": [
    "model.compile(loss='categorical_crossentropy', optimizer='adam', metrics=['accuracy'])"
   ]
  },
  {
   "cell_type": "code",
   "execution_count": 32,
   "metadata": {},
   "outputs": [],
   "source": [
    "X_train, X_test, y_train, y_test = train_test_split(X, y, test_size=0.2, random_state=42)"
   ]
  },
  {
   "cell_type": "code",
   "execution_count": 34,
   "metadata": {},
   "outputs": [
    {
     "name": "stdout",
     "output_type": "stream",
     "text": [
      "Epoch 1/20\n",
      "1800/1800 [==============================] - 4s 2ms/step - loss: 0.2394 - accuracy: 0.9260 - val_loss: 0.4338 - val_accuracy: 0.8835\n",
      "Epoch 2/20\n",
      "1800/1800 [==============================] - 3s 2ms/step - loss: 0.2235 - accuracy: 0.9302 - val_loss: 0.4323 - val_accuracy: 0.8847\n",
      "Epoch 3/20\n",
      "1800/1800 [==============================] - 3s 2ms/step - loss: 0.2132 - accuracy: 0.9336 - val_loss: 0.4261 - val_accuracy: 0.8874\n",
      "Epoch 4/20\n",
      "1800/1800 [==============================] - 4s 2ms/step - loss: 0.2018 - accuracy: 0.9364 - val_loss: 0.4609 - val_accuracy: 0.8785\n",
      "Epoch 5/20\n",
      "1800/1800 [==============================] - 4s 2ms/step - loss: 0.1887 - accuracy: 0.9411 - val_loss: 0.4284 - val_accuracy: 0.8870\n",
      "Epoch 6/20\n",
      "1800/1800 [==============================] - 4s 2ms/step - loss: 0.1802 - accuracy: 0.9427 - val_loss: 0.4559 - val_accuracy: 0.8824\n",
      "Epoch 7/20\n",
      "1800/1800 [==============================] - 4s 2ms/step - loss: 0.1732 - accuracy: 0.9452 - val_loss: 0.4727 - val_accuracy: 0.8849\n",
      "Epoch 8/20\n",
      "1800/1800 [==============================] - 4s 2ms/step - loss: 0.1666 - accuracy: 0.9464 - val_loss: 0.4548 - val_accuracy: 0.8872\n",
      "Epoch 9/20\n",
      "1800/1800 [==============================] - 5s 3ms/step - loss: 0.1572 - accuracy: 0.9495 - val_loss: 0.4514 - val_accuracy: 0.8896\n",
      "Epoch 10/20\n",
      "1800/1800 [==============================] - 4s 2ms/step - loss: 0.1545 - accuracy: 0.9505 - val_loss: 0.4760 - val_accuracy: 0.8897\n",
      "Epoch 11/20\n",
      "1800/1800 [==============================] - 4s 2ms/step - loss: 0.1457 - accuracy: 0.9526 - val_loss: 0.5004 - val_accuracy: 0.8825\n",
      "Epoch 12/20\n",
      "1800/1800 [==============================] - 4s 2ms/step - loss: 0.1439 - accuracy: 0.9529 - val_loss: 0.4957 - val_accuracy: 0.8881\n",
      "Epoch 13/20\n",
      "1800/1800 [==============================] - 5s 3ms/step - loss: 0.1335 - accuracy: 0.9557 - val_loss: 0.4924 - val_accuracy: 0.8894\n",
      "Epoch 14/20\n",
      "1800/1800 [==============================] - 4s 2ms/step - loss: 0.1289 - accuracy: 0.9570 - val_loss: 0.5214 - val_accuracy: 0.8867\n",
      "Epoch 15/20\n",
      "1800/1800 [==============================] - 4s 2ms/step - loss: 0.1278 - accuracy: 0.9575 - val_loss: 0.5626 - val_accuracy: 0.8798\n",
      "Epoch 16/20\n",
      "1800/1800 [==============================] - 4s 2ms/step - loss: 0.1264 - accuracy: 0.9574 - val_loss: 0.5340 - val_accuracy: 0.8840\n",
      "Epoch 17/20\n",
      "1800/1800 [==============================] - 5s 3ms/step - loss: 0.1194 - accuracy: 0.9606 - val_loss: 0.5319 - val_accuracy: 0.8869\n",
      "Epoch 18/20\n",
      "1800/1800 [==============================] - 4s 2ms/step - loss: 0.1169 - accuracy: 0.9610 - val_loss: 0.5455 - val_accuracy: 0.8865\n",
      "Epoch 19/20\n",
      "1800/1800 [==============================] - 4s 2ms/step - loss: 0.1142 - accuracy: 0.9622 - val_loss: 0.5524 - val_accuracy: 0.8892\n",
      "Epoch 20/20\n",
      "1800/1800 [==============================] - 5s 3ms/step - loss: 0.1096 - accuracy: 0.9635 - val_loss: 0.5496 - val_accuracy: 0.8876\n"
     ]
    },
    {
     "data": {
      "text/plain": [
       "<keras.callbacks.History at 0x209cab056c0>"
      ]
     },
     "execution_count": 34,
     "metadata": {},
     "output_type": "execute_result"
    }
   ],
   "source": [
    "model.fit(X_train, y_train,validation_data=(X_test,y_test), epochs=20)"
   ]
  },
  {
   "cell_type": "code",
   "execution_count": 35,
   "metadata": {},
   "outputs": [
    {
     "name": "stdout",
     "output_type": "stream",
     "text": [
      "INFO:tensorflow:Assets written to: ram://85c51ba4-72a5-4c86-a45e-a94ee1110785/assets\n"
     ]
    }
   ],
   "source": [
    "import pickle\n",
    "\n",
    "# Serialize the model to a pkl file\n",
    "with open('model.pkl', 'wb') as f:\n",
    "    pickle.dump(model, f)"
   ]
  },
  {
   "cell_type": "code",
   "execution_count": 44,
   "metadata": {},
   "outputs": [
    {
     "name": "stdout",
     "output_type": "stream",
     "text": [
      "450/450 [==============================] - 1s 2ms/step\n"
     ]
    },
    {
     "data": {
      "text/plain": [
       "array([[8.92218395e-22, 3.60060901e-17, 1.05344045e-16, ...,\n",
       "        5.38614986e-12, 8.55593540e-21, 3.13213409e-12],\n",
       "       [2.05810008e-10, 1.54949839e-22, 1.71338185e-19, ...,\n",
       "        7.41313749e-15, 4.51903823e-18, 4.76231286e-08],\n",
       "       [1.28653778e-31, 6.56112052e-18, 3.78076082e-20, ...,\n",
       "        5.70357576e-18, 4.13482873e-25, 6.03169519e-26],\n",
       "       ...,\n",
       "       [4.84435176e-08, 3.52024631e-06, 4.85917251e-10, ...,\n",
       "        1.03906968e-04, 5.41429372e-08, 9.64086950e-01],\n",
       "       [1.72968096e-27, 7.37499395e-10, 8.81625883e-11, ...,\n",
       "        1.21466976e-32, 2.86553279e-13, 7.20565735e-27],\n",
       "       [1.46324307e-22, 1.04945962e-10, 1.06954878e-09, ...,\n",
       "        1.68638712e-15, 2.67742681e-17, 8.91493905e-19]], dtype=float32)"
      ]
     },
     "execution_count": 44,
     "metadata": {},
     "output_type": "execute_result"
    }
   ],
   "source": [
    "model.predict(X_test)"
   ]
  },
  {
   "cell_type": "code",
   "execution_count": 45,
   "metadata": {},
   "outputs": [
    {
     "name": "stderr",
     "output_type": "stream",
     "text": [
      "ERROR: Could not find a version that satisfies the requirement PIL (from versions: none)\n",
      "ERROR: No matching distribution found for PIL\n"
     ]
    }
   ],
   "source": [
    "!pip install PIL\n"
   ]
  },
  {
   "cell_type": "code",
   "execution_count": 46,
   "metadata": {},
   "outputs": [],
   "source": [
    "from PIL import Image\n",
    "img=Image.open('ka.png').convert('L')"
   ]
  },
  {
   "cell_type": "code",
   "execution_count": 47,
   "metadata": {},
   "outputs": [],
   "source": [
    "img_array=np.array(img).flatten()/255"
   ]
  },
  {
   "cell_type": "code",
   "execution_count": 48,
   "metadata": {},
   "outputs": [
    {
     "data": {
      "text/plain": [
       "(1024,)"
      ]
     },
     "execution_count": 48,
     "metadata": {},
     "output_type": "execute_result"
    }
   ],
   "source": [
    "img_array.shape"
   ]
  },
  {
   "cell_type": "code",
   "execution_count": 49,
   "metadata": {},
   "outputs": [
    {
     "name": "stdout",
     "output_type": "stream",
     "text": [
      "1/1 [==============================] - 0s 30ms/step\n"
     ]
    },
    {
     "data": {
      "text/plain": [
       "array([[2.5822997e-02, 1.4709172e-02, 2.4908120e-05, 6.4417117e-11,\n",
       "        4.2512247e-04, 1.4199319e-04, 2.0338500e-06, 3.4243116e-05,\n",
       "        7.0410693e-01, 1.4415123e-03, 5.9563854e-10, 8.7991064e-10,\n",
       "        2.4485640e-05, 1.1902259e-13, 5.7088374e-07, 2.3469776e-10,\n",
       "        4.8778093e-09, 2.3699126e-06, 3.2649663e-08, 2.3177531e-06,\n",
       "        8.6086330e-13, 2.2985277e-01, 2.9081395e-06, 5.4153102e-04,\n",
       "        1.5271539e-04, 6.3762620e-08, 2.0086417e-09, 7.0791871e-06,\n",
       "        3.5103873e-09, 2.1311427e-02, 1.8996818e-08, 2.1948169e-04,\n",
       "        1.7575806e-04, 3.8583067e-04, 3.1122117e-04, 3.0057208e-04]],\n",
       "      dtype=float32)"
      ]
     },
     "execution_count": 49,
     "metadata": {},
     "output_type": "execute_result"
    }
   ],
   "source": [
    "model.predict(img_array.reshape(1,1024))"
   ]
  },
  {
   "cell_type": "code",
   "execution_count": 53,
   "metadata": {},
   "outputs": [],
   "source": [
    "model.save(\"model.h5\")"
   ]
  },
  {
   "cell_type": "code",
   "execution_count": 55,
   "metadata": {},
   "outputs": [
    {
     "name": "stdout",
     "output_type": "stream",
     "text": [
      "Model: \"sequential_5\"\n",
      "_________________________________________________________________\n",
      " Layer (type)                Output Shape              Param #   \n",
      "=================================================================\n",
      " dense_15 (Dense)            (None, 64)                65600     \n",
      "                                                                 \n",
      " dense_16 (Dense)            (None, 64)                4160      \n",
      "                                                                 \n",
      " dense_17 (Dense)            (None, 36)                2340      \n",
      "                                                                 \n",
      "=================================================================\n",
      "Total params: 72,100\n",
      "Trainable params: 72,100\n",
      "Non-trainable params: 0\n",
      "_________________________________________________________________\n"
     ]
    }
   ],
   "source": [
    "from tensorflow.keras.models import load_model\n",
    "\n",
    "# Load the saved model\n",
    "model1 = load_model(\"model.h5\")\n",
    "\n",
    "# Check the model summary\n",
    "model1.summary()\n"
   ]
  },
  {
   "cell_type": "code",
   "execution_count": 56,
   "metadata": {},
   "outputs": [
    {
     "name": "stdout",
     "output_type": "stream",
     "text": [
      "1/1 [==============================] - 0s 159ms/step\n"
     ]
    },
    {
     "data": {
      "text/plain": [
       "array([[2.5822997e-02, 1.4709172e-02, 2.4908120e-05, 6.4417117e-11,\n",
       "        4.2512247e-04, 1.4199319e-04, 2.0338500e-06, 3.4243116e-05,\n",
       "        7.0410693e-01, 1.4415123e-03, 5.9563854e-10, 8.7991064e-10,\n",
       "        2.4485640e-05, 1.1902259e-13, 5.7088374e-07, 2.3469776e-10,\n",
       "        4.8778093e-09, 2.3699126e-06, 3.2649663e-08, 2.3177531e-06,\n",
       "        8.6086330e-13, 2.2985277e-01, 2.9081395e-06, 5.4153102e-04,\n",
       "        1.5271539e-04, 6.3762620e-08, 2.0086417e-09, 7.0791871e-06,\n",
       "        3.5103873e-09, 2.1311427e-02, 1.8996818e-08, 2.1948169e-04,\n",
       "        1.7575806e-04, 3.8583067e-04, 3.1122117e-04, 3.0057208e-04]],\n",
       "      dtype=float32)"
      ]
     },
     "execution_count": 56,
     "metadata": {},
     "output_type": "execute_result"
    }
   ],
   "source": [
    "model1.predict(img_array.reshape(1,1024))"
   ]
  },
  {
   "cell_type": "code",
   "execution_count": null,
   "metadata": {},
   "outputs": [],
   "source": []
  }
 ],
 "metadata": {
  "kernelspec": {
   "display_name": "classifier",
   "language": "python",
   "name": "python3"
  },
  "language_info": {
   "codemirror_mode": {
    "name": "ipython",
    "version": 3
   },
   "file_extension": ".py",
   "mimetype": "text/x-python",
   "name": "python",
   "nbconvert_exporter": "python",
   "pygments_lexer": "ipython3",
   "version": "3.10.13"
  }
 },
 "nbformat": 4,
 "nbformat_minor": 2
}
