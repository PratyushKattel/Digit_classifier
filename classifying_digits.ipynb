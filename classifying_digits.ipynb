{
 "cells": [
  {
   "cell_type": "code",
   "execution_count": 1,
   "metadata": {},
   "outputs": [],
   "source": [
    "import pandas as pd"
   ]
  },
  {
   "cell_type": "code",
   "execution_count": 7,
   "metadata": {},
   "outputs": [],
   "source": [
    "df=pd.read_csv('training_images/training_images.csv')"
   ]
  },
  {
   "cell_type": "code",
   "execution_count": 10,
   "metadata": {},
   "outputs": [
    {
     "data": {
      "text/html": [
       "<div>\n",
       "<style scoped>\n",
       "    .dataframe tbody tr th:only-of-type {\n",
       "        vertical-align: middle;\n",
       "    }\n",
       "\n",
       "    .dataframe tbody tr th {\n",
       "        vertical-align: top;\n",
       "    }\n",
       "\n",
       "    .dataframe thead th {\n",
       "        text-align: right;\n",
       "    }\n",
       "</style>\n",
       "<table border=\"1\" class=\"dataframe\">\n",
       "  <thead>\n",
       "    <tr style=\"text-align: right;\">\n",
       "      <th></th>\n",
       "      <th>0</th>\n",
       "      <th>1</th>\n",
       "    </tr>\n",
       "  </thead>\n",
       "  <tbody>\n",
       "    <tr>\n",
       "      <th>Unnamed: 0</th>\n",
       "      <td>0</td>\n",
       "      <td>1</td>\n",
       "    </tr>\n",
       "    <tr>\n",
       "      <th>0</th>\n",
       "      <td>[0 0 0 ... 0 0 0]</td>\n",
       "      <td>[0 0 0 ... 0 0 0]</td>\n",
       "    </tr>\n",
       "    <tr>\n",
       "      <th>1</th>\n",
       "      <td>[0 0 0 ... 0 0 0]</td>\n",
       "      <td>[0 0 0 ... 0 0 0]</td>\n",
       "    </tr>\n",
       "    <tr>\n",
       "      <th>2</th>\n",
       "      <td>[0 0 0 ... 0 0 0]</td>\n",
       "      <td>[0 0 0 ... 0 0 0]</td>\n",
       "    </tr>\n",
       "    <tr>\n",
       "      <th>3</th>\n",
       "      <td>[0 0 0 ... 0 0 0]</td>\n",
       "      <td>[0 0 0 ... 0 0 0]</td>\n",
       "    </tr>\n",
       "    <tr>\n",
       "      <th>...</th>\n",
       "      <td>...</td>\n",
       "      <td>...</td>\n",
       "    </tr>\n",
       "    <tr>\n",
       "      <th>3995</th>\n",
       "      <td>[0 0 0 ... 0 0 0]</td>\n",
       "      <td>[0 0 0 ... 0 0 0]</td>\n",
       "    </tr>\n",
       "    <tr>\n",
       "      <th>3996</th>\n",
       "      <td>[0 0 0 ... 0 0 0]</td>\n",
       "      <td>[0 0 0 ... 0 0 0]</td>\n",
       "    </tr>\n",
       "    <tr>\n",
       "      <th>3997</th>\n",
       "      <td>[0 0 0 ... 0 0 0]</td>\n",
       "      <td>[0 0 0 ... 0 0 0]</td>\n",
       "    </tr>\n",
       "    <tr>\n",
       "      <th>3998</th>\n",
       "      <td>[0 0 0 ... 0 0 0]</td>\n",
       "      <td>[0 0 0 ... 0 0 0]</td>\n",
       "    </tr>\n",
       "    <tr>\n",
       "      <th>3999</th>\n",
       "      <td>[0 0 0 ... 0 0 0]</td>\n",
       "      <td>[0 0 0 ... 0 0 0]</td>\n",
       "    </tr>\n",
       "  </tbody>\n",
       "</table>\n",
       "<p>4001 rows × 2 columns</p>\n",
       "</div>"
      ],
      "text/plain": [
       "                            0                  1\n",
       "Unnamed: 0                  0                  1\n",
       "0           [0 0 0 ... 0 0 0]  [0 0 0 ... 0 0 0]\n",
       "1           [0 0 0 ... 0 0 0]  [0 0 0 ... 0 0 0]\n",
       "2           [0 0 0 ... 0 0 0]  [0 0 0 ... 0 0 0]\n",
       "3           [0 0 0 ... 0 0 0]  [0 0 0 ... 0 0 0]\n",
       "...                       ...                ...\n",
       "3995        [0 0 0 ... 0 0 0]  [0 0 0 ... 0 0 0]\n",
       "3996        [0 0 0 ... 0 0 0]  [0 0 0 ... 0 0 0]\n",
       "3997        [0 0 0 ... 0 0 0]  [0 0 0 ... 0 0 0]\n",
       "3998        [0 0 0 ... 0 0 0]  [0 0 0 ... 0 0 0]\n",
       "3999        [0 0 0 ... 0 0 0]  [0 0 0 ... 0 0 0]\n",
       "\n",
       "[4001 rows x 2 columns]"
      ]
     },
     "execution_count": 10,
     "metadata": {},
     "output_type": "execute_result"
    }
   ],
   "source": [
    "df.T"
   ]
  },
  {
   "cell_type": "code",
   "execution_count": null,
   "metadata": {},
   "outputs": [],
   "source": []
  }
 ],
 "metadata": {
  "kernelspec": {
   "display_name": "base",
   "language": "python",
   "name": "python3"
  },
  "language_info": {
   "codemirror_mode": {
    "name": "ipython",
    "version": 3
   },
   "file_extension": ".py",
   "mimetype": "text/x-python",
   "name": "python",
   "nbconvert_exporter": "python",
   "pygments_lexer": "ipython3",
   "version": "3.12.7"
  }
 },
 "nbformat": 4,
 "nbformat_minor": 2
}
